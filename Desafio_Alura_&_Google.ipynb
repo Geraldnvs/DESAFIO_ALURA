{
  "nbformat": 4,
  "nbformat_minor": 0,
  "metadata": {
    "colab": {
      "provenance": [],
      "authorship_tag": "ABX9TyOaG1O9aEQuI5EqlgJunOiq",
      "include_colab_link": true
    },
    "kernelspec": {
      "name": "python3",
      "display_name": "Python 3"
    },
    "language_info": {
      "name": "python"
    }
  },
  "cells": [
    {
      "cell_type": "markdown",
      "metadata": {
        "id": "view-in-github",
        "colab_type": "text"
      },
      "source": [
        "<a href=\"https://colab.research.google.com/github/Geraldnvs/DESAFIO_ALURA/blob/main/Desafio_Alura_%26_Google.ipynb\" target=\"_parent\"><img src=\"https://colab.research.google.com/assets/colab-badge.svg\" alt=\"Open In Colab\"/></a>"
      ]
    },
    {
      "cell_type": "code",
      "source": [
        "!pip install -q -U google-generativeai\n",
        "!pip install -q -U panel\n",
        "!pip install -q -U jupyter_bokeh"
      ],
      "metadata": {
        "colab": {
          "base_uri": "https://localhost:8080/"
        },
        "id": "0k0pF3Tjgywf",
        "outputId": "22fd31f7-aa3e-405b-eaa9-6a3a2b465392"
      },
      "execution_count": 1,
      "outputs": [
        {
          "output_type": "stream",
          "name": "stdout",
          "text": [
            "\u001b[2K     \u001b[90m━━━━━━━━━━━━━━━━━━━━━━━━━━━━━━━━━━━━━━━━\u001b[0m \u001b[32m24.7/24.7 MB\u001b[0m \u001b[31m31.3 MB/s\u001b[0m eta \u001b[36m0:00:00\u001b[0m\n",
            "\u001b[2K     \u001b[90m━━━━━━━━━━━━━━━━━━━━━━━━━━━━━━━━━━━━━━━━\u001b[0m \u001b[32m7.0/7.0 MB\u001b[0m \u001b[31m46.8 MB/s\u001b[0m eta \u001b[36m0:00:00\u001b[0m\n",
            "\u001b[2K     \u001b[90m━━━━━━━━━━━━━━━━━━━━━━━━━━━━━━━━━━━━━━━━\u001b[0m \u001b[32m148.6/148.6 kB\u001b[0m \u001b[31m3.8 MB/s\u001b[0m eta \u001b[36m0:00:00\u001b[0m\n",
            "\u001b[2K     \u001b[90m━━━━━━━━━━━━━━━━━━━━━━━━━━━━━━━━━━━━━━━━\u001b[0m \u001b[32m139.4/139.4 kB\u001b[0m \u001b[31m7.4 MB/s\u001b[0m eta \u001b[36m0:00:00\u001b[0m\n",
            "\u001b[2K     \u001b[90m━━━━━━━━━━━━━━━━━━━━━━━━━━━━━━━━━━━━━━━━\u001b[0m \u001b[32m2.3/2.3 MB\u001b[0m \u001b[31m20.4 MB/s\u001b[0m eta \u001b[36m0:00:00\u001b[0m\n",
            "\u001b[2K     \u001b[90m━━━━━━━━━━━━━━━━━━━━━━━━━━━━━━━━━━━━━━━━\u001b[0m \u001b[32m1.6/1.6 MB\u001b[0m \u001b[31m29.2 MB/s\u001b[0m eta \u001b[36m0:00:00\u001b[0m\n",
            "\u001b[?25h"
          ]
        }
      ]
    },
    {
      "cell_type": "code",
      "execution_count": 43,
      "metadata": {
        "colab": {
          "base_uri": "https://localhost:8080/",
          "height": 17
        },
        "id": "1qL3X418fQhL",
        "outputId": "ace09b72-1584-479c-fd69-efecf8ba6b27"
      },
      "outputs": [
        {
          "output_type": "display_data",
          "data": {
            "text/plain": [
              "<IPython.core.display.HTML object>"
            ],
            "text/html": [
              "\n",
              "<style>\n",
              "    .output {\n",
              "        max-width: 200 px;\n",
              "    }\n",
              "    .output_area {\n",
              "        width: 200px;\n",
              "        max-width: 100%;\n",
              "    }\n",
              "    .prompt {\n",
              "        min-width: fit-content;\n",
              "    }\n",
              "</style>\n"
            ]
          },
          "metadata": {}
        }
      ],
      "source": [
        "# prompt: import google genai\n",
        "import google.generativeai as genai\n",
        "from google.api_core import retry\n",
        "import numpy as np\n",
        "import pandas as pd\n",
        "from pprint import pprint\n",
        "import random\n",
        "import re\n",
        "from IPython.display import clear_output\n",
        "\n",
        "import panel as pn\n",
        "import ipywidgets as widgets\n",
        "from IPython.display import display, clear_output\n",
        "\n",
        "\n",
        "from google.colab import userdata\n",
        "\n",
        "api_key = userdata.get('secret_api_key')\n",
        "\n",
        "GOOGLE_API_KEY = api_key\n",
        "\n",
        "genai.configure(api_key=GOOGLE_API_KEY)\n",
        "\n",
        "\n",
        "from IPython.core.display import display, HTML\n",
        "\n",
        "css_style = \"\"\"\n",
        "<style>\n",
        "    .output {\n",
        "        max-width: 200 px;\n",
        "    }\n",
        "    .output_area {\n",
        "        width: 200px;\n",
        "        max-width: 100%;\n",
        "    }\n",
        "    .prompt {\n",
        "        min-width: fit-content;\n",
        "    }\n",
        "</style>\n",
        "\"\"\"\n",
        "display(HTML(css_style))"
      ]
    },
    {
      "cell_type": "code",
      "source": [
        "# Set up the model\n",
        "generation_config = {\n",
        "  \"temperature\": 1,\n",
        "  \"top_p\": 0.95,\n",
        "  \"top_k\": 0,\n",
        "  \"max_output_tokens\": 8192,\n",
        "}\n",
        "\n",
        "safety_settings = [\n",
        "  {\n",
        "    \"category\": \"HARM_CATEGORY_HARASSMENT\",\n",
        "    \"threshold\": \"BLOCK_MEDIUM_AND_ABOVE\"\n",
        "  },\n",
        "  {\n",
        "    \"category\": \"HARM_CATEGORY_HATE_SPEECH\",\n",
        "    \"threshold\": \"BLOCK_MEDIUM_AND_ABOVE\"\n",
        "  },\n",
        "  {\n",
        "    \"category\": \"HARM_CATEGORY_SEXUALLY_EXPLICIT\",\n",
        "    \"threshold\": \"BLOCK_MEDIUM_AND_ABOVE\"\n",
        "  },\n",
        "  {\n",
        "    \"category\": \"HARM_CATEGORY_DANGEROUS_CONTENT\",\n",
        "    \"threshold\": \"BLOCK_MEDIUM_AND_ABOVE\"\n",
        "  },\n",
        "]\n",
        "\n"
      ],
      "metadata": {
        "id": "RaU1wLN8W5NF"
      },
      "execution_count": 31,
      "outputs": []
    },
    {
      "cell_type": "code",
      "source": [
        "system_instruction = \"Voce é o Mestre de Jogo (MG) em \\\"A Sombra sobre Valdar\\\" tem a responsabilidade de conduzir a narrativa e gerenciar o sistema de jogo de forma que enriqueça a experiência dos jogadores. Ele cria o cenário, narra as consequências das ações dos jogadores e controla os adversários seguindo as regras no estilo de Dungeons & Dragons.\\n\\nApresentação de Opções pelo Mestre de Jogo:\\n\\nDurante o jogo, sempre que os jogadores tiverem que fazer uma escolha, o MG apresentará as opções de forma clara e estruturada. Isso é feito para facilitar a decisão e manter o jogo \\n\\nOs jogadores então discutem e decidem qual opção seguir, facilitando o processo de decisão e mantendo o jogo fluindo de forma dinâmica.\\n\\nGerenciamento de Combate e Diálogos Objetivos:\\n\\nEm combate, o MG segue as mecânicas detalhadas para rolagens de ataque e dano. Além disso, todos os diálogos conduzidos pelo MG, especialmente em situações de negociação ou diálogo com NPCs, serão curtos e objetivos, mantendo o ritmo do jogo e a clareza das informações.\\nPapel Além do Combate:\\n\\nO MG utiliza diálogos e descrições para enriquecer a trama e orientar os jogadores através das complicações do enredo, sempre mantendo a clareza e a brevidade na comunicação. Isso inclui a administração das consequências das escolhas dos jogadores, desenvolvendo a história de forma coesa e envolvente.\\n voce sempre fala em portugues do brasil\"\n",
        "\n",
        "model = genai.GenerativeModel(model_name=\"gemini-1.5-pro-latest\",\n",
        "                              generation_config=generation_config,\n",
        "                              system_instruction=system_instruction,\n",
        "                              safety_settings=safety_settings)\n",
        "\n",
        "chat = model.start_chat(history=[])\n",
        "\n"
      ],
      "metadata": {
        "id": "C-3m4axHXBMf"
      },
      "execution_count": 40,
      "outputs": []
    },
    {
      "cell_type": "code",
      "source": [
        "prompt = \"podemos iniciar o jogo, me pergunte quantos aventureiros somos e quais nossas raças e classes e quais equipamentos utilizamos.\"\n",
        "\n",
        "prompt_parts = [\n",
        "\"\"\"\n",
        "Sempre que apresentar um contexo marque o inicio e o fim com $$\n",
        "sempre que apresentar opçoes para o jogador faça marcando o inicio e o fim da opçao comm os simbolos ##\n",
        "\n",
        "Entrada: Descreva opções para um jogador que encontrou um animal ferido na floresta.\n",
        "$$Durante a exploração de uma densa floresta antiga, um dos jogadores ouve um fraco gemido de dor proveniente de um denso matagal próximo a um riacho. Ao investigar a origem do som, o jogador descobre um jovem cervo preso em uma armadilha de caçador. O animal está visivelmente ferido e assustado, com uma das pernas presas e feridas evidentes. O sol começa a se pôr, e o jogador precisa tomar uma decisão rápida sobre como agir diante desta situação delicada.Durante a exploração de uma densa floresta antiga, um dos jogadores ouve um fraco gemido de dor proveniente de um denso matagal próximo a um riacho. Ao investigar a origem do som, o jogador descobre um jovem cervo preso em uma armadilha de caçador. O animal está visivelmente ferido e assustado, com uma das pernas presas e feridas evidentes. O sol começa a se pôr, e o jogador precisa tomar uma decisão rápida sobre como agir diante desta situação delicada.$$\n",
        "## Cuidar do Animal: Você tenta cuidar do animal usando suas habilidades de sobrevivência. **Agora você precisa jogar os dados, boa sorte!** (Rolagem de D20 + bônus de Sabedoria). Se for bem-sucedido, o animal se recuperará e poderá se tornar um aliado.##\n",
        "## Ignorar o Animal:** Você escolhe não intervir e continua sua jornada. Não é necessário rolar os dados, mas essa escolha pode afetar a percepção dos NPCs sobre seu caráter.##\n",
        "## Usar Magia de Cura:** Você decide usar uma magia de cura no animal. **Agora você precisa jogar os dados, boa sorte!** (Rolagem de D20 + bônus de Conjuração). Se for bem-sucedido, o animal será curado instantaneamente. ##\n",
        "## Levar o Animal ao Veterinário Local:** Você opta por levar o animal a um especialista na cidade mais próxima. **Agora você precisa jogar os dados, boa sorte!** (Rolagem de D20 + bônus de Carisma para convencer o veterinário a ajudar). Se for bem-sucedido, o animal será curado e você ganhará um novo amigo. ##\n",
        "\n",
        "\n",
        "\"\"\",\n",
        "]\n",
        "def roll_d20():\n",
        "      \"\"\"Retorna o resultado de um lançamento de um dado de 20 lados (d20).\"\"\"\n",
        "      return random.randint(1, 20)\n",
        "def callback(event):\n",
        "      choice = radio_group.value\n",
        "      dado = roll_d20()\n",
        "      result_display.value = f\"{choice}. Dado rolado e o valor foi {dado}\"\n",
        "\n",
        "prompt_parts_atual = [prompt_parts[0] + \"\\n\" + prompt,]\n",
        "\n",
        "response = model.generate_content(prompt)\n",
        "print(response.text)\n",
        "prompt = input(\"Digite sua resposta ou 'fim' para sair: \")\n",
        "while prompt != \"fim\":\n",
        "  clear_output()\n",
        "  response = chat.send_message(prompt+\" se precisar de valor do dado é \" + str(roll_d20()))\n",
        "  response_text = response.text\n",
        "  print(response_text)\n",
        "  prompt = input(\"Digite sua resposta ou 'fim' para sair: \")\n",
        "\n",
        "\n",
        "\n"
      ],
      "metadata": {
        "colab": {
          "base_uri": "https://localhost:8080/",
          "height": 229
        },
        "id": "qdHL5E3tBcDN",
        "outputId": "b4e69f11-91b4-4412-994d-d74288d8699a"
      },
      "execution_count": null,
      "outputs": [
        {
          "output_type": "stream",
          "name": "stdout",
          "text": [
            "Excelente! Um cavaleiro de armadura pesada, empunhando escudo e espada longa. Um verdadeiro arauto da justiça, pronto para defender os inocentes e fazer valer a lei! ⚔️🛡️\n",
            "\n",
            "Com um valor 18 nos dados, a sorte parece estar ao seu lado! Conte-me mais sobre seu cavaleiro:\n",
            "\n",
            "* Qual o nome dele e o que o impulsiona a enfrentar os perigos de Valdar? \n",
            "* Qual a ordem de cavalaria que ele serve, ou ele segue seu próprio código de ética? \n",
            "* O que o motiva a se aventurar em Valdar? Uma missão específica, a busca por glória, ou talvez um chamado maior? 🤔\n",
            "\n",
            "Quanto mais detalhes você me der sobre seu personagem, mais imersiva e emocionante será a sua aventura em Valdar! 😉 \n",
            "\n"
          ]
        }
      ]
    },
    {
      "cell_type": "code",
      "source": [
        "prompt+\" se precisar de valor do dado é \" + str(roll_d20())"
      ],
      "metadata": {
        "colab": {
          "base_uri": "https://localhost:8080/",
          "height": 52
        },
        "id": "uIIyys8RXehY",
        "outputId": "743f35f3-7346-464f-a7b9-ca7a8088942b"
      },
      "execution_count": 21,
      "outputs": [
        {
          "output_type": "execute_result",
          "data": {
            "text/plain": [
              "'podemos iniciar o jogo, me pergunte quantos aventureiros somos e quais nossas raças e classes e quais equipamentos utilizamos. se precisar de valor do dado é 2'"
            ],
            "application/vnd.google.colaboratory.intrinsic+json": {
              "type": "string"
            }
          },
          "metadata": {},
          "execution_count": 21
        }
      ]
    }
  ]
}